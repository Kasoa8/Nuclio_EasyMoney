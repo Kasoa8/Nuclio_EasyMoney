{
 "cells": [
  {
   "cell_type": "code",
   "execution_count": 1,
   "metadata": {},
   "outputs": [],
   "source": [
    "## SET UP ##\n",
    "\n",
    "# 1: Importamos las librerias que vamos a usar:\n",
    "import os\n",
    "import pandas as pd\n",
    "import numpy as np\n",
    "import matplotlib.pyplot as plt\n",
    "import seaborn as sns\n",
    "from sklearn.preprocessing import LabelEncoder, MinMaxScaler, OrdinalEncoder"
   ]
  },
  {
   "cell_type": "code",
   "execution_count": 2,
   "metadata": {},
   "outputs": [],
   "source": [
    "# 2: Seteamos el working directory:\n",
    "os.chdir('C:/Users/carle/Desktop/Nuclio_EasyMoney')"
   ]
  },
  {
   "cell_type": "code",
   "execution_count": 3,
   "metadata": {},
   "outputs": [],
   "source": [
    "# 3: Leemos los documentos CSV:\n",
    "# 3.1: Function to load CSV files\n",
    "def load_csv(file_path):\n",
    "    if os.path.exists(file_path):\n",
    "        return pd.read_csv(file_path)\n",
    "    else:\n",
    "        print(f\"File {file_path} not found!\")\n",
    "        return None\n",
    "    \n",
    "# 3.2: Paths to the CSV files\n",
    "path_commercial = '0_Data/commercial_activity_df.csv'\n",
    "\n",
    "# 3.3: Load dataframes\n",
    "df_commercial = load_csv(path_commercial)"
   ]
  },
  {
   "cell_type": "code",
   "execution_count": 4,
   "metadata": {},
   "outputs": [
    {
     "name": "stdout",
     "output_type": "stream",
     "text": [
      "<class 'pandas.core.frame.DataFrame'>\n",
      "RangeIndex: 5962924 entries, 0 to 5962923\n",
      "Data columns (total 7 columns):\n",
      " #   Column           Dtype  \n",
      "---  ------           -----  \n",
      " 0   Unnamed: 0       int64  \n",
      " 1   pk_cid           int64  \n",
      " 2   pk_partition     object \n",
      " 3   entry_date       object \n",
      " 4   entry_channel    object \n",
      " 5   active_customer  float64\n",
      " 6   segment          object \n",
      "dtypes: float64(1), int64(2), object(4)\n",
      "memory usage: 318.5+ MB\n"
     ]
    },
    {
     "data": {
      "text/html": [
       "<div>\n",
       "<style scoped>\n",
       "    .dataframe tbody tr th:only-of-type {\n",
       "        vertical-align: middle;\n",
       "    }\n",
       "\n",
       "    .dataframe tbody tr th {\n",
       "        vertical-align: top;\n",
       "    }\n",
       "\n",
       "    .dataframe thead th {\n",
       "        text-align: right;\n",
       "    }\n",
       "</style>\n",
       "<table border=\"1\" class=\"dataframe\">\n",
       "  <thead>\n",
       "    <tr style=\"text-align: right;\">\n",
       "      <th></th>\n",
       "      <th>Unnamed: 0</th>\n",
       "      <th>pk_cid</th>\n",
       "      <th>pk_partition</th>\n",
       "      <th>entry_date</th>\n",
       "      <th>entry_channel</th>\n",
       "      <th>active_customer</th>\n",
       "      <th>segment</th>\n",
       "    </tr>\n",
       "  </thead>\n",
       "  <tbody>\n",
       "    <tr>\n",
       "      <th>0</th>\n",
       "      <td>0</td>\n",
       "      <td>1375586</td>\n",
       "      <td>2018-01-28</td>\n",
       "      <td>2018-01-12</td>\n",
       "      <td>KHL</td>\n",
       "      <td>1.0</td>\n",
       "      <td>02 - PARTICULARES</td>\n",
       "    </tr>\n",
       "    <tr>\n",
       "      <th>1</th>\n",
       "      <td>1</td>\n",
       "      <td>1050611</td>\n",
       "      <td>2018-01-28</td>\n",
       "      <td>2015-08-10</td>\n",
       "      <td>KHE</td>\n",
       "      <td>0.0</td>\n",
       "      <td>03 - UNIVERSITARIO</td>\n",
       "    </tr>\n",
       "    <tr>\n",
       "      <th>2</th>\n",
       "      <td>2</td>\n",
       "      <td>1050612</td>\n",
       "      <td>2018-01-28</td>\n",
       "      <td>2015-08-10</td>\n",
       "      <td>KHE</td>\n",
       "      <td>0.0</td>\n",
       "      <td>03 - UNIVERSITARIO</td>\n",
       "    </tr>\n",
       "    <tr>\n",
       "      <th>3</th>\n",
       "      <td>3</td>\n",
       "      <td>1050613</td>\n",
       "      <td>2018-01-28</td>\n",
       "      <td>2015-08-10</td>\n",
       "      <td>KHD</td>\n",
       "      <td>0.0</td>\n",
       "      <td>03 - UNIVERSITARIO</td>\n",
       "    </tr>\n",
       "    <tr>\n",
       "      <th>4</th>\n",
       "      <td>4</td>\n",
       "      <td>1050614</td>\n",
       "      <td>2018-01-28</td>\n",
       "      <td>2015-08-10</td>\n",
       "      <td>KHE</td>\n",
       "      <td>1.0</td>\n",
       "      <td>03 - UNIVERSITARIO</td>\n",
       "    </tr>\n",
       "  </tbody>\n",
       "</table>\n",
       "</div>"
      ],
      "text/plain": [
       "   Unnamed: 0   pk_cid pk_partition  entry_date entry_channel  \\\n",
       "0           0  1375586   2018-01-28  2018-01-12           KHL   \n",
       "1           1  1050611   2018-01-28  2015-08-10           KHE   \n",
       "2           2  1050612   2018-01-28  2015-08-10           KHE   \n",
       "3           3  1050613   2018-01-28  2015-08-10           KHD   \n",
       "4           4  1050614   2018-01-28  2015-08-10           KHE   \n",
       "\n",
       "   active_customer             segment  \n",
       "0              1.0   02 - PARTICULARES  \n",
       "1              0.0  03 - UNIVERSITARIO  \n",
       "2              0.0  03 - UNIVERSITARIO  \n",
       "3              0.0  03 - UNIVERSITARIO  \n",
       "4              1.0  03 - UNIVERSITARIO  "
      ]
     },
     "execution_count": 4,
     "metadata": {},
     "output_type": "execute_result"
    }
   ],
   "source": [
    "## df_commercial ##\n",
    "## ANALISIS PRELIMINAR ##\n",
    "\n",
    "# 1: Analizamos la información preliminar del archivo:\n",
    "df_commercial.info()\n",
    "df_commercial.head()"
   ]
  },
  {
   "cell_type": "code",
   "execution_count": 5,
   "metadata": {},
   "outputs": [
    {
     "data": {
      "text/html": [
       "<div>\n",
       "<style scoped>\n",
       "    .dataframe tbody tr th:only-of-type {\n",
       "        vertical-align: middle;\n",
       "    }\n",
       "\n",
       "    .dataframe tbody tr th {\n",
       "        vertical-align: top;\n",
       "    }\n",
       "\n",
       "    .dataframe thead th {\n",
       "        text-align: right;\n",
       "    }\n",
       "</style>\n",
       "<table border=\"1\" class=\"dataframe\">\n",
       "  <thead>\n",
       "    <tr style=\"text-align: right;\">\n",
       "      <th></th>\n",
       "      <th>Unnamed: 0</th>\n",
       "      <th>pk_cid</th>\n",
       "      <th>active_customer</th>\n",
       "    </tr>\n",
       "  </thead>\n",
       "  <tbody>\n",
       "    <tr>\n",
       "      <th>count</th>\n",
       "      <td>5.962924e+06</td>\n",
       "      <td>5.962924e+06</td>\n",
       "      <td>5.962924e+06</td>\n",
       "    </tr>\n",
       "    <tr>\n",
       "      <th>mean</th>\n",
       "      <td>7.155425e+06</td>\n",
       "      <td>1.234930e+06</td>\n",
       "      <td>4.033845e-01</td>\n",
       "    </tr>\n",
       "    <tr>\n",
       "      <th>std</th>\n",
       "      <td>3.920784e+06</td>\n",
       "      <td>1.623020e+05</td>\n",
       "      <td>4.905767e-01</td>\n",
       "    </tr>\n",
       "    <tr>\n",
       "      <th>min</th>\n",
       "      <td>0.000000e+00</td>\n",
       "      <td>1.589100e+04</td>\n",
       "      <td>0.000000e+00</td>\n",
       "    </tr>\n",
       "    <tr>\n",
       "      <th>25%</th>\n",
       "      <td>4.240386e+06</td>\n",
       "      <td>1.112532e+06</td>\n",
       "      <td>0.000000e+00</td>\n",
       "    </tr>\n",
       "    <tr>\n",
       "      <th>50%</th>\n",
       "      <td>7.499346e+06</td>\n",
       "      <td>1.231097e+06</td>\n",
       "      <td>0.000000e+00</td>\n",
       "    </tr>\n",
       "    <tr>\n",
       "      <th>75%</th>\n",
       "      <td>1.020142e+07</td>\n",
       "      <td>1.352339e+06</td>\n",
       "      <td>1.000000e+00</td>\n",
       "    </tr>\n",
       "    <tr>\n",
       "      <th>max</th>\n",
       "      <td>1.364731e+07</td>\n",
       "      <td>1.553689e+06</td>\n",
       "      <td>1.000000e+00</td>\n",
       "    </tr>\n",
       "  </tbody>\n",
       "</table>\n",
       "</div>"
      ],
      "text/plain": [
       "         Unnamed: 0        pk_cid  active_customer\n",
       "count  5.962924e+06  5.962924e+06     5.962924e+06\n",
       "mean   7.155425e+06  1.234930e+06     4.033845e-01\n",
       "std    3.920784e+06  1.623020e+05     4.905767e-01\n",
       "min    0.000000e+00  1.589100e+04     0.000000e+00\n",
       "25%    4.240386e+06  1.112532e+06     0.000000e+00\n",
       "50%    7.499346e+06  1.231097e+06     0.000000e+00\n",
       "75%    1.020142e+07  1.352339e+06     1.000000e+00\n",
       "max    1.364731e+07  1.553689e+06     1.000000e+00"
      ]
     },
     "execution_count": 5,
     "metadata": {},
     "output_type": "execute_result"
    }
   ],
   "source": [
    "# 1: Analizamos la información preliminar del archivo:\n",
    "df_commercial.describe()"
   ]
  },
  {
   "cell_type": "code",
   "execution_count": 6,
   "metadata": {},
   "outputs": [
    {
     "data": {
      "text/plain": [
       "Unnamed: 0              0\n",
       "pk_cid                  0\n",
       "pk_partition            0\n",
       "entry_date              0\n",
       "entry_channel      133033\n",
       "active_customer         0\n",
       "segment            133944\n",
       "dtype: int64"
      ]
     },
     "execution_count": 6,
     "metadata": {},
     "output_type": "execute_result"
    }
   ],
   "source": [
    "# 1: Analizamos la información preliminar del archivo:\n",
    "df_commercial.isnull().sum()"
   ]
  },
  {
   "cell_type": "code",
   "execution_count": 7,
   "metadata": {},
   "outputs": [
    {
     "data": {
      "text/plain": [
       "Unnamed: 0         0.000000\n",
       "pk_cid             0.000000\n",
       "pk_partition       0.000000\n",
       "entry_date         0.000000\n",
       "entry_channel      2.231003\n",
       "active_customer    0.000000\n",
       "segment            2.246281\n",
       "dtype: float64"
      ]
     },
     "execution_count": 7,
     "metadata": {},
     "output_type": "execute_result"
    }
   ],
   "source": [
    "# 1: Analizamos la información preliminar del archivo:\n",
    "# 1.1: Function to calculate percentage of null values\n",
    "def null_percentage(df):\n",
    "    return (df.isnull().sum() / len(df)) * 100\n",
    "\n",
    "# 1.2: Apply the function\n",
    "null_percentage(df_commercial)"
   ]
  },
  {
   "cell_type": "code",
   "execution_count": 8,
   "metadata": {},
   "outputs": [
    {
     "data": {
      "text/plain": [
       "Unnamed: 0         0\n",
       "pk_cid             0\n",
       "pk_partition       0\n",
       "entry_date         0\n",
       "entry_channel      0\n",
       "active_customer    0\n",
       "segment            0\n",
       "dtype: int64"
      ]
     },
     "execution_count": 8,
     "metadata": {},
     "output_type": "execute_result"
    }
   ],
   "source": [
    "# 1: Analizamos la información preliminar del archivo:\n",
    "df_commercial[df_commercial.duplicated()].count()"
   ]
  },
  {
   "cell_type": "code",
   "execution_count": 9,
   "metadata": {},
   "outputs": [
    {
     "name": "stdout",
     "output_type": "stream",
     "text": [
      "Unnamed: 0\n",
      "0           1\n",
      "9344701     1\n",
      "9344699     1\n",
      "9344698     1\n",
      "9344697     1\n",
      "           ..\n",
      "5074084     1\n",
      "5074083     1\n",
      "5074082     1\n",
      "5074081     1\n",
      "13647308    1\n",
      "Name: count, Length: 5962924, dtype: int64\n",
      "pk_cid\n",
      "1375586    17\n",
      "1328781    17\n",
      "1328783    17\n",
      "1328784    17\n",
      "1328786    17\n",
      "           ..\n",
      "1521045     1\n",
      "1545224     1\n",
      "1470941     1\n",
      "1521049     1\n",
      "1550586     1\n",
      "Name: count, Length: 456373, dtype: int64\n",
      "pk_partition\n",
      "2019-05-28    442995\n",
      "2019-04-28    439627\n",
      "2019-03-28    436183\n",
      "2019-02-28    431727\n",
      "2019-01-28    426875\n",
      "2018-12-28    422481\n",
      "2018-11-28    416387\n",
      "2018-10-28    402300\n",
      "2018-09-28    375323\n",
      "2018-08-28    352922\n",
      "2018-07-28    339339\n",
      "2018-06-28    252104\n",
      "2018-05-28    249926\n",
      "2018-04-28    247463\n",
      "2018-03-28    245258\n",
      "2018-02-28    242521\n",
      "2018-01-28    239493\n",
      "Name: count, dtype: int64\n",
      "entry_date\n",
      "2017-07-28    57389\n",
      "2017-10-03    54287\n",
      "2017-08-04    45746\n",
      "2016-10-14    40804\n",
      "2016-08-03    33414\n",
      "              ...  \n",
      "2015-04-29       11\n",
      "2016-06-15       11\n",
      "2015-08-19       11\n",
      "2018-05-31        9\n",
      "2017-05-01        7\n",
      "Name: count, Length: 1499, dtype: int64\n",
      "entry_channel\n",
      "KHE    3113947\n",
      "KFC     890620\n",
      "KHQ     590280\n",
      "KAT     416084\n",
      "KHK     230197\n",
      "        ...   \n",
      "KEJ          8\n",
      "KHS          5\n",
      "KDA          2\n",
      "KFP          2\n",
      "KDS          1\n",
      "Name: count, Length: 68, dtype: int64\n",
      "active_customer\n",
      "0.0    3557573\n",
      "1.0    2405351\n",
      "Name: count, dtype: int64\n",
      "segment\n",
      "03 - UNIVERSITARIO    3900166\n",
      "02 - PARTICULARES     1830875\n",
      "01 - TOP                97939\n",
      "Name: count, dtype: int64\n"
     ]
    }
   ],
   "source": [
    "for i in df_commercial:\n",
    "    print(df_commercial[i].value_counts())"
   ]
  },
  {
   "cell_type": "code",
   "execution_count": 14,
   "metadata": {},
   "outputs": [],
   "source": [
    "## TRANSFORMACION DATOS ##\n",
    "\n",
    "# 1: Eliminamos los NA de la muestra:\n",
    "df_commercial.dropna(inplace=True)"
   ]
  },
  {
   "cell_type": "code",
   "execution_count": 15,
   "metadata": {},
   "outputs": [
    {
     "data": {
      "text/plain": [
       "Unnamed: 0         0\n",
       "pk_cid             0\n",
       "pk_partition       0\n",
       "entry_date         0\n",
       "entry_channel      0\n",
       "active_customer    0\n",
       "segment            0\n",
       "dtype: int64"
      ]
     },
     "execution_count": 15,
     "metadata": {},
     "output_type": "execute_result"
    }
   ],
   "source": [
    "# 2: Comprobamos el resultado:\n",
    "df_commercial.isnull().sum()"
   ]
  },
  {
   "cell_type": "code",
   "execution_count": null,
   "metadata": {},
   "outputs": [],
   "source": []
  }
 ],
 "metadata": {
  "kernelspec": {
   "display_name": "Python 3",
   "language": "python",
   "name": "python3"
  },
  "language_info": {
   "codemirror_mode": {
    "name": "ipython",
    "version": 3
   },
   "file_extension": ".py",
   "mimetype": "text/x-python",
   "name": "python",
   "nbconvert_exporter": "python",
   "pygments_lexer": "ipython3",
   "version": "3.12.2"
  }
 },
 "nbformat": 4,
 "nbformat_minor": 2
}
